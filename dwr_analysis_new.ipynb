{
 "cells": [
  {
   "cell_type": "code",
   "execution_count": 29,
   "metadata": {},
   "outputs": [],
   "source": [
    "from arcgis.gis import GIS\n",
    "from arcgis.geocoding import geocode"
   ]
  },
  {
   "cell_type": "code",
   "execution_count": 30,
   "metadata": {},
   "outputs": [],
   "source": [
    "\n",
    "gis = GIS()\n"
   ]
  },
  {
   "cell_type": "code",
   "execution_count": 25,
   "metadata": {},
   "outputs": [],
   "source": []
  },
  {
   "cell_type": "code",
   "execution_count": 33,
   "metadata": {},
   "outputs": [],
   "source": [
    "geocoded_features = geocode(\n",
    "    address=None,\n",
    "    location=[-118.71511, 34.09042],\n",
    "    category=\"Coffee shop\",\n",
    "    out_fields=\"Place_addr, PlaceName\",\n",
    "    max_locations=25,\n",
    "    as_featureset=True,\n",
    ")\n"
   ]
  },
  {
   "cell_type": "code",
   "execution_count": 34,
   "metadata": {},
   "outputs": [
    {
     "data": {
      "text/html": [
       "<div>\n",
       "<style scoped>\n",
       "    .dataframe tbody tr th:only-of-type {\n",
       "        vertical-align: middle;\n",
       "    }\n",
       "\n",
       "    .dataframe tbody tr th {\n",
       "        vertical-align: top;\n",
       "    }\n",
       "\n",
       "    .dataframe thead th {\n",
       "        text-align: right;\n",
       "    }\n",
       "</style>\n",
       "<table border=\"1\" class=\"dataframe\">\n",
       "  <thead>\n",
       "    <tr style=\"text-align: right;\">\n",
       "      <th></th>\n",
       "      <th>PlaceName</th>\n",
       "      <th>Place_addr</th>\n",
       "      <th>OBJECTID</th>\n",
       "      <th>SHAPE</th>\n",
       "    </tr>\n",
       "  </thead>\n",
       "  <tbody>\n",
       "    <tr>\n",
       "      <th>0</th>\n",
       "      <td>Philz Coffee</td>\n",
       "      <td>26787 Agoura Rd, Unit E-9, Calabasas, Californ...</td>\n",
       "      <td>1</td>\n",
       "      <td>{\"x\": -118.707875, \"y\": 34.1399, \"spatialRefer...</td>\n",
       "    </tr>\n",
       "    <tr>\n",
       "      <th>1</th>\n",
       "      <td>The HAWC Cafe</td>\n",
       "      <td>24255 Pacific Coast Hwy, Malibu, California, 9...</td>\n",
       "      <td>2</td>\n",
       "      <td>{\"x\": -118.705716, \"y\": 34.038976, \"spatialRef...</td>\n",
       "    </tr>\n",
       "  </tbody>\n",
       "</table>\n",
       "</div>"
      ],
      "text/plain": [
       "       PlaceName  ...                                              SHAPE\n",
       "0   Philz Coffee  ...  {\"x\": -118.707875, \"y\": 34.1399, \"spatialRefer...\n",
       "1  The HAWC Cafe  ...  {\"x\": -118.705716, \"y\": 34.038976, \"spatialRef...\n",
       "\n",
       "[2 rows x 4 columns]"
      ]
     },
     "execution_count": 34,
     "metadata": {},
     "output_type": "execute_result"
    }
   ],
   "source": [
    "geocoded_df = geocoded_features.sdf\n",
    "geocoded_df.head(2)"
   ]
  }
 ],
 "metadata": {
  "kernelspec": {
   "display_name": "ArcGISPro",
   "language": "Python",
   "name": "python3"
  },
  "language_info": {
   "file_extension": ".py",
   "name": "python",
   "version": "3"
  }
 },
 "nbformat": 4,
 "nbformat_minor": 2
}
